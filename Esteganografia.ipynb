{
  "nbformat": 4,
  "nbformat_minor": 0,
  "metadata": {
    "colab": {
      "provenance": []
    },
    "kernelspec": {
      "name": "python3",
      "display_name": "Python 3"
    },
    "language_info": {
      "name": "python"
    }
  },
  "cells": [
    {
      "cell_type": "markdown",
      "source": [
        "# Decodificando imagens através da esteganografia - Segurança da Informação\n",
        "\n",
        "## Leonardo Bora - RA - 2022100913"
      ],
      "metadata": {
        "id": "oJqctI0wQhIA"
      }
    },
    {
      "cell_type": "code",
      "execution_count": 10,
      "metadata": {
        "colab": {
          "base_uri": "https://localhost:8080/",
          "height": 0
        },
        "id": "y5eKjymxQa12",
        "outputId": "6afec4af-e221-4748-de42-daf17b99a549"
      },
      "outputs": [
        {
          "output_type": "stream",
          "name": "stdout",
          "text": [
            "Requirement already satisfied: pillow in /usr/local/lib/python3.11/dist-packages (11.1.0)\n"
          ]
        }
      ],
      "source": [
        "!pip install pillow"
      ]
    },
    {
      "cell_type": "code",
      "source": [
        "from PIL import Image\n",
        "\n",
        "def decode_lsb_all_channels(img_path):\n",
        "    img = Image.open(img_path)\n",
        "    data = list(img.getdata())\n",
        "    bits = []\n",
        "    for p in data:\n",
        "        for idx in (0, 1, 2):\n",
        "            bits.append(str(p[idx]&1))\n",
        "    chars = [chr(int(''.join(bits[i:i+8]),2)) for i in range(0, len(bits), 8)]\n",
        "    msg = ''.join(chars).split('\\x00')[0].replace('ÿ','')\n",
        "    print(msg)\n",
        "\n",
        "decode_lsb_all_channels('/content/imagem_esteganografada.png')"
      ],
      "metadata": {
        "colab": {
          "base_uri": "https://localhost:8080/",
          "height": 0
        },
        "id": "yGKj_0ZuRydR",
        "outputId": "95762d21-dda1-464a-d4cd-6af4a4573ab5"
      },
      "execution_count": 11,
      "outputs": [
        {
          "output_type": "stream",
          "name": "stdout",
          "text": [
            "A esteganografia é fascinante!\n"
          ]
        }
      ]
    },
    {
      "cell_type": "markdown",
      "source": [
        "# A mensagem foi codificada usando os bits menos significativos dos três canais RGB concatenados"
      ],
      "metadata": {
        "id": "G_dfVa79SHhs"
      }
    }
  ]
}